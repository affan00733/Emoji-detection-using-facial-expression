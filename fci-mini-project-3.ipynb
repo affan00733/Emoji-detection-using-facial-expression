{
 "cells": [
  {
   "cell_type": "markdown",
   "metadata": {},
   "source": [
    "Name : Afaan Ansari\n",
    "\n",
    "UICD : 2019230064\n",
    "\n",
    "Batch : C \n",
    "\n",
    "Sub : FCI"
   ]
  },
  {
   "cell_type": "markdown",
   "metadata": {},
   "source": [
    "# Detection of Emoji using facial expression"
   ]
  },
  {
   "cell_type": "markdown",
   "metadata": {},
   "source": [
    "emotional recognition with the help of facial expressions. Today is the era of fast and dynamic internet and communication technologies. Hence, the communication is more convenient as compared to the past. Use of communications through different channels, such as mobile phones and computers, are very common in today’s era. E-mails, text messaging, blog entries, and comments are some of the forms of communication which are very common today. To enhance the experience of communication, emojis were developed . Emoji’s are the pictorial representation of the facial expression of human beings. They are very helpful in the facilitation of human emotional experiences.\n",
    "\n",
    "The Facial  emoji  recognizer detects  the  expression  of  the  person and converts that expression of the person into the emoji of 7 classes .  We implement a classifier for face detection of  CNN algorithm for expression  detection .\n"
   ]
  },
  {
   "cell_type": "markdown",
   "metadata": {},
   "source": [
    "Dataset link [Facial expression](https://www.kaggle.com/c/challenges-in-representation-learning-facial-expression-recognition-challenge/data)\n",
    "\n",
    "Github link [\n",
    "Emoji-detection-using-facial-expression](https://github.com/affan00733/Emoji-detection-using-facial-expression)"
   ]
  },
  {
   "cell_type": "markdown",
   "metadata": {},
   "source": [
    "load the required modules"
   ]
  },
  {
   "cell_type": "code",
   "execution_count": 76,
   "metadata": {
    "execution": {
     "iopub.execute_input": "2021-07-09T10:13:17.360592Z",
     "iopub.status.busy": "2021-07-09T10:13:17.360266Z",
     "iopub.status.idle": "2021-07-09T10:13:17.368915Z",
     "shell.execute_reply": "2021-07-09T10:13:17.367831Z",
     "shell.execute_reply.started": "2021-07-09T10:13:17.360563Z"
    }
   },
   "outputs": [],
   "source": [
    "import pandas as pd\n",
    "import numpy as np\n",
    "from keras.models import load_model\n",
    "import os.path\n",
    "import cv2\n",
    "from keras.models import Sequential\n",
    "from keras.layers import Dense, Activation, Dropout, Flatten, BatchNormalization\n",
    "from keras.layers import Conv2D\n",
    "from keras.utils import to_categorical\n",
    "from keras.callbacks import ModelCheckpoint\n",
    "from keras import callbacks\n",
    "from keras.callbacks import EarlyStopping\n",
    "from keras.layers import MaxPool2D\n",
    "from keras.layers import Conv2D,MaxPooling2D\n",
    "import matplotlib.pyplot as plt\n",
    "from keras.applications.vgg16 import VGG16\n",
    "from keras.initializers import glorot_normal,glorot_uniform, he_normal, he_uniform\n",
    "from keras.optimizers import Adamax,Adam, Adadelta, Adagrad, RMSprop, Nadam, SGD\n",
    "from keras.callbacks import EarlyStopping\n",
    "from keras.utils import to_categorical\n",
    "from keras.regularizers import l2,l1\n",
    "from keras.callbacks import ModelCheckpoint\n",
    "import warnings\n",
    "warnings.filterwarnings('ignore')"
   ]
  },
  {
   "cell_type": "markdown",
   "metadata": {},
   "source": [
    "here is the type of the emoji's that we are going to classify , we classifing it into 7 categories"
   ]
  },
  {
   "cell_type": "code",
   "execution_count": 77,
   "metadata": {
    "execution": {
     "iopub.execute_input": "2021-07-09T10:13:17.371224Z",
     "iopub.status.busy": "2021-07-09T10:13:17.370860Z",
     "iopub.status.idle": "2021-07-09T10:13:17.380069Z",
     "shell.execute_reply": "2021-07-09T10:13:17.379250Z",
     "shell.execute_reply.started": "2021-07-09T10:13:17.371189Z"
    }
   },
   "outputs": [],
   "source": [
    "emoji = ['Angry','Disgust','Fear','Happy','Sad','Surprise','Neutral']\n",
    "# 0=Angry, 1=Disgust, 2=Fear, 3=Happy, 4=Sad, 5=Surprise, 6=Neutral"
   ]
  },
  {
   "cell_type": "markdown",
   "metadata": {},
   "source": [
    "Now we are reading the dataset csv file which is combind of training , validation and test set . and we have columns emotion which is output label , usage which gives the type of set and despite of giving the images it gives the image cell values which is pixel column"
   ]
  },
  {
   "cell_type": "code",
   "execution_count": 78,
   "metadata": {
    "execution": {
     "iopub.execute_input": "2021-07-09T10:13:17.382780Z",
     "iopub.status.busy": "2021-07-09T10:13:17.382216Z",
     "iopub.status.idle": "2021-07-09T10:13:19.813167Z",
     "shell.execute_reply": "2021-07-09T10:13:19.812305Z",
     "shell.execute_reply.started": "2021-07-09T10:13:17.382744Z"
    }
   },
   "outputs": [],
   "source": [
    "data = pd.read_csv(\"/kaggle/input/face-data-1/icml_face_data.csv\")\n",
    "data.columns = ['emotion', 'Usage', 'pixels']"
   ]
  },
  {
   "cell_type": "markdown",
   "metadata": {},
   "source": [
    "here we are visulaizing the dataset in dataframe"
   ]
  },
  {
   "cell_type": "code",
   "execution_count": 79,
   "metadata": {
    "execution": {
     "iopub.execute_input": "2021-07-09T10:13:19.815183Z",
     "iopub.status.busy": "2021-07-09T10:13:19.814824Z",
     "iopub.status.idle": "2021-07-09T10:13:19.829709Z",
     "shell.execute_reply": "2021-07-09T10:13:19.828667Z",
     "shell.execute_reply.started": "2021-07-09T10:13:19.815147Z"
    }
   },
   "outputs": [
    {
     "data": {
      "text/html": [
       "<div>\n",
       "<style scoped>\n",
       "    .dataframe tbody tr th:only-of-type {\n",
       "        vertical-align: middle;\n",
       "    }\n",
       "\n",
       "    .dataframe tbody tr th {\n",
       "        vertical-align: top;\n",
       "    }\n",
       "\n",
       "    .dataframe thead th {\n",
       "        text-align: right;\n",
       "    }\n",
       "</style>\n",
       "<table border=\"1\" class=\"dataframe\">\n",
       "  <thead>\n",
       "    <tr style=\"text-align: right;\">\n",
       "      <th></th>\n",
       "      <th>emotion</th>\n",
       "      <th>Usage</th>\n",
       "      <th>pixels</th>\n",
       "    </tr>\n",
       "  </thead>\n",
       "  <tbody>\n",
       "    <tr>\n",
       "      <th>0</th>\n",
       "      <td>0</td>\n",
       "      <td>Training</td>\n",
       "      <td>70 80 82 72 58 58 60 63 54 58 60 48 89 115 121...</td>\n",
       "    </tr>\n",
       "    <tr>\n",
       "      <th>1</th>\n",
       "      <td>0</td>\n",
       "      <td>Training</td>\n",
       "      <td>151 150 147 155 148 133 111 140 170 174 182 15...</td>\n",
       "    </tr>\n",
       "    <tr>\n",
       "      <th>2</th>\n",
       "      <td>2</td>\n",
       "      <td>Training</td>\n",
       "      <td>231 212 156 164 174 138 161 173 182 200 106 38...</td>\n",
       "    </tr>\n",
       "    <tr>\n",
       "      <th>3</th>\n",
       "      <td>4</td>\n",
       "      <td>Training</td>\n",
       "      <td>24 32 36 30 32 23 19 20 30 41 21 22 32 34 21 1...</td>\n",
       "    </tr>\n",
       "    <tr>\n",
       "      <th>4</th>\n",
       "      <td>6</td>\n",
       "      <td>Training</td>\n",
       "      <td>4 0 0 0 0 0 0 0 0 0 0 0 3 15 23 28 48 50 58 84...</td>\n",
       "    </tr>\n",
       "    <tr>\n",
       "      <th>...</th>\n",
       "      <td>...</td>\n",
       "      <td>...</td>\n",
       "      <td>...</td>\n",
       "    </tr>\n",
       "    <tr>\n",
       "      <th>35882</th>\n",
       "      <td>6</td>\n",
       "      <td>PrivateTest</td>\n",
       "      <td>50 36 17 22 23 29 33 39 34 37 37 37 39 43 48 5...</td>\n",
       "    </tr>\n",
       "    <tr>\n",
       "      <th>35883</th>\n",
       "      <td>3</td>\n",
       "      <td>PrivateTest</td>\n",
       "      <td>178 174 172 173 181 188 191 194 196 199 200 20...</td>\n",
       "    </tr>\n",
       "    <tr>\n",
       "      <th>35884</th>\n",
       "      <td>0</td>\n",
       "      <td>PrivateTest</td>\n",
       "      <td>17 17 16 23 28 22 19 17 25 26 20 24 31 19 27 9...</td>\n",
       "    </tr>\n",
       "    <tr>\n",
       "      <th>35885</th>\n",
       "      <td>3</td>\n",
       "      <td>PrivateTest</td>\n",
       "      <td>30 28 28 29 31 30 42 68 79 81 77 67 67 71 63 6...</td>\n",
       "    </tr>\n",
       "    <tr>\n",
       "      <th>35886</th>\n",
       "      <td>2</td>\n",
       "      <td>PrivateTest</td>\n",
       "      <td>19 13 14 12 13 16 21 33 50 57 71 84 97 108 122...</td>\n",
       "    </tr>\n",
       "  </tbody>\n",
       "</table>\n",
       "<p>35887 rows × 3 columns</p>\n",
       "</div>"
      ],
      "text/plain": [
       "       emotion        Usage                                             pixels\n",
       "0            0     Training  70 80 82 72 58 58 60 63 54 58 60 48 89 115 121...\n",
       "1            0     Training  151 150 147 155 148 133 111 140 170 174 182 15...\n",
       "2            2     Training  231 212 156 164 174 138 161 173 182 200 106 38...\n",
       "3            4     Training  24 32 36 30 32 23 19 20 30 41 21 22 32 34 21 1...\n",
       "4            6     Training  4 0 0 0 0 0 0 0 0 0 0 0 3 15 23 28 48 50 58 84...\n",
       "...        ...          ...                                                ...\n",
       "35882        6  PrivateTest  50 36 17 22 23 29 33 39 34 37 37 37 39 43 48 5...\n",
       "35883        3  PrivateTest  178 174 172 173 181 188 191 194 196 199 200 20...\n",
       "35884        0  PrivateTest  17 17 16 23 28 22 19 17 25 26 20 24 31 19 27 9...\n",
       "35885        3  PrivateTest  30 28 28 29 31 30 42 68 79 81 77 67 67 71 63 6...\n",
       "35886        2  PrivateTest  19 13 14 12 13 16 21 33 50 57 71 84 97 108 122...\n",
       "\n",
       "[35887 rows x 3 columns]"
      ]
     },
     "execution_count": 79,
     "metadata": {},
     "output_type": "execute_result"
    }
   ],
   "source": [
    "data"
   ]
  },
  {
   "cell_type": "code",
   "execution_count": 80,
   "metadata": {
    "execution": {
     "iopub.execute_input": "2021-07-09T10:13:19.831798Z",
     "iopub.status.busy": "2021-07-09T10:13:19.831434Z",
     "iopub.status.idle": "2021-07-09T10:13:19.841960Z",
     "shell.execute_reply": "2021-07-09T10:13:19.841088Z",
     "shell.execute_reply.started": "2021-07-09T10:13:19.831760Z"
    }
   },
   "outputs": [
    {
     "data": {
      "text/plain": [
       "array(['Training', 'PublicTest', 'PrivateTest'], dtype=object)"
      ]
     },
     "execution_count": 80,
     "metadata": {},
     "output_type": "execute_result"
    }
   ],
   "source": [
    "data[\"Usage\"].unique()"
   ]
  },
  {
   "cell_type": "markdown",
   "metadata": {},
   "source": [
    "now we have created the prepare data function here we are transforming the image pixels cell data into the format which is accepted by the neural network model which is row , columns , channes is 48 , 48 , 1 respectively . to transform it into 48x48 we are reshaping it and also dividing it by 255 as it is an image"
   ]
  },
  {
   "cell_type": "code",
   "execution_count": 81,
   "metadata": {
    "execution": {
     "iopub.execute_input": "2021-07-09T10:13:19.844051Z",
     "iopub.status.busy": "2021-07-09T10:13:19.843547Z",
     "iopub.status.idle": "2021-07-09T10:13:19.850568Z",
     "shell.execute_reply": "2021-07-09T10:13:19.849592Z",
     "shell.execute_reply.started": "2021-07-09T10:13:19.843991Z"
    }
   },
   "outputs": [],
   "source": [
    "def prepare_data(data):\n",
    "    image_array = np.zeros(shape=(len(data), 48, 48, 1))\n",
    "    image_label = np.array(list(map(int, data['emotion'])))\n",
    "\n",
    "    for i, row in enumerate(data.index):\n",
    "        image = np.fromstring(data.loc[row, 'pixels'], dtype=int, sep=' ')\n",
    "        image = np.reshape(image, (48, 48)) \n",
    "        image_array[i, :, :, 0] = image / 255\n",
    "\n",
    "    return image_array, image_label"
   ]
  },
  {
   "cell_type": "markdown",
   "metadata": {},
   "source": [
    "now we are showing the distribution of  training , validation and test set"
   ]
  },
  {
   "cell_type": "code",
   "execution_count": 82,
   "metadata": {
    "execution": {
     "iopub.execute_input": "2021-07-09T10:13:19.852542Z",
     "iopub.status.busy": "2021-07-09T10:13:19.851982Z",
     "iopub.status.idle": "2021-07-09T10:13:24.049698Z",
     "shell.execute_reply": "2021-07-09T10:13:24.048739Z",
     "shell.execute_reply.started": "2021-07-09T10:13:19.852506Z"
    }
   },
   "outputs": [
    {
     "name": "stdout",
     "output_type": "stream",
     "text": [
      "(28709, 48, 48, 1)\n",
      "(28709,)\n",
      "(3589, 48, 48, 1)\n",
      "(3589,)\n",
      "(3589, 48, 48, 1)\n",
      "(3589,)\n"
     ]
    }
   ],
   "source": [
    "full_train_images, full_train_labels = prepare_data(data[data['Usage']=='Training'])\n",
    "val_images, val_labels = prepare_data(data[data['Usage']=='PublicTest'])\n",
    "test_images, test_labels = prepare_data(data[data['Usage']=='PrivateTest'])\n",
    "\n",
    "print(full_train_images.shape)\n",
    "print(full_train_labels.shape)\n",
    "print(val_images.shape)\n",
    "print(val_labels.shape)\n",
    "print(test_images.shape)\n",
    "print(test_labels.shape)"
   ]
  },
  {
   "cell_type": "markdown",
   "metadata": {},
   "source": [
    "As to give the output Y label to the model we need to categorize it And we are categoring the training , validation and test set"
   ]
  },
  {
   "cell_type": "code",
   "execution_count": 83,
   "metadata": {
    "execution": {
     "iopub.execute_input": "2021-07-09T10:13:24.053047Z",
     "iopub.status.busy": "2021-07-09T10:13:24.052700Z",
     "iopub.status.idle": "2021-07-09T10:13:24.058658Z",
     "shell.execute_reply": "2021-07-09T10:13:24.057692Z",
     "shell.execute_reply.started": "2021-07-09T10:13:24.053017Z"
    }
   },
   "outputs": [],
   "source": [
    "y_train_ohe = to_categorical(full_train_labels, num_classes=7)\n",
    "y_val_ohe = to_categorical(val_labels, num_classes=7)\n",
    "y_test_ohe = to_categorical(test_labels, num_classes=7)"
   ]
  },
  {
   "cell_type": "code",
   "execution_count": 84,
   "metadata": {
    "execution": {
     "iopub.execute_input": "2021-07-09T10:13:24.061274Z",
     "iopub.status.busy": "2021-07-09T10:13:24.060724Z",
     "iopub.status.idle": "2021-07-09T10:13:24.068518Z",
     "shell.execute_reply": "2021-07-09T10:13:24.067519Z",
     "shell.execute_reply.started": "2021-07-09T10:13:24.061236Z"
    }
   },
   "outputs": [
    {
     "name": "stdout",
     "output_type": "stream",
     "text": [
      "(28709, 7)\n",
      "(3589, 7)\n",
      "(3589, 7)\n"
     ]
    }
   ],
   "source": [
    "print(y_train_ohe.shape)\n",
    "print(y_val_ohe.shape)\n",
    "print(y_test_ohe.shape)"
   ]
  },
  {
   "cell_type": "markdown",
   "metadata": {},
   "source": [
    "number of image rows and columns"
   ]
  },
  {
   "cell_type": "code",
   "execution_count": 85,
   "metadata": {
    "execution": {
     "iopub.execute_input": "2021-07-09T10:13:24.070361Z",
     "iopub.status.busy": "2021-07-09T10:13:24.069966Z",
     "iopub.status.idle": "2021-07-09T10:13:24.076102Z",
     "shell.execute_reply": "2021-07-09T10:13:24.075088Z",
     "shell.execute_reply.started": "2021-07-09T10:13:24.070324Z"
    }
   },
   "outputs": [],
   "source": [
    "img_rows=48\n",
    "img_cols=48"
   ]
  },
  {
   "cell_type": "markdown",
   "metadata": {},
   "source": [
    "now we are defing the model and doing the hyper-parameter tuning . we are making a block of  CNN model where first 4 blocks is of the convolution layer and other remaining 3 blocks is of fully connected layer . And in each convolution block there is pair of convolution layer which is going from 32 , 64 , 128, 256 and filter of size 3x3 . Also we are using relu activation function for non-linearinty . as we are using blocks of convolution layer so we need to use batch normalization so they can be normalized into same scale . Also we are using the max pooling layer of pool size 2x2 and dropout rate of 20% for convolution layer blocks\n",
    "\n",
    "And in the fully connected layer blocks first we are using the flatten layer so the input can be normalized and reshaped into the output format . Here also we are using relu activation function and batch normalization which has same purpose as above and we are changing the dropout rate to 50% . And conecting it to dense layer and at the last layer we are giveing the softmax activation function because it is multiclass prediction ."
   ]
  },
  {
   "cell_type": "code",
   "execution_count": 86,
   "metadata": {
    "execution": {
     "iopub.execute_input": "2021-07-09T10:13:24.078047Z",
     "iopub.status.busy": "2021-07-09T10:13:24.077646Z",
     "iopub.status.idle": "2021-07-09T10:13:24.359075Z",
     "shell.execute_reply": "2021-07-09T10:13:24.358285Z",
     "shell.execute_reply.started": "2021-07-09T10:13:24.077993Z"
    }
   },
   "outputs": [
    {
     "name": "stdout",
     "output_type": "stream",
     "text": [
      "Model: \"sequential_1\"\n",
      "_________________________________________________________________\n",
      "Layer (type)                 Output Shape              Param #   \n",
      "=================================================================\n",
      "conv2d_8 (Conv2D)            (None, 48, 48, 32)        320       \n",
      "_________________________________________________________________\n",
      "activation_11 (Activation)   (None, 48, 48, 32)        0         \n",
      "_________________________________________________________________\n",
      "batch_normalization_10 (Batc (None, 48, 48, 32)        128       \n",
      "_________________________________________________________________\n",
      "conv2d_9 (Conv2D)            (None, 48, 48, 32)        9248      \n",
      "_________________________________________________________________\n",
      "activation_12 (Activation)   (None, 48, 48, 32)        0         \n",
      "_________________________________________________________________\n",
      "batch_normalization_11 (Batc (None, 48, 48, 32)        128       \n",
      "_________________________________________________________________\n",
      "max_pooling2d_4 (MaxPooling2 (None, 24, 24, 32)        0         \n",
      "_________________________________________________________________\n",
      "dropout_6 (Dropout)          (None, 24, 24, 32)        0         \n",
      "_________________________________________________________________\n",
      "conv2d_10 (Conv2D)           (None, 24, 24, 64)        18496     \n",
      "_________________________________________________________________\n",
      "activation_13 (Activation)   (None, 24, 24, 64)        0         \n",
      "_________________________________________________________________\n",
      "batch_normalization_12 (Batc (None, 24, 24, 64)        256       \n",
      "_________________________________________________________________\n",
      "conv2d_11 (Conv2D)           (None, 24, 24, 64)        36928     \n",
      "_________________________________________________________________\n",
      "activation_14 (Activation)   (None, 24, 24, 64)        0         \n",
      "_________________________________________________________________\n",
      "batch_normalization_13 (Batc (None, 24, 24, 64)        256       \n",
      "_________________________________________________________________\n",
      "max_pooling2d_5 (MaxPooling2 (None, 12, 12, 64)        0         \n",
      "_________________________________________________________________\n",
      "dropout_7 (Dropout)          (None, 12, 12, 64)        0         \n",
      "_________________________________________________________________\n",
      "conv2d_12 (Conv2D)           (None, 12, 12, 128)       73856     \n",
      "_________________________________________________________________\n",
      "activation_15 (Activation)   (None, 12, 12, 128)       0         \n",
      "_________________________________________________________________\n",
      "batch_normalization_14 (Batc (None, 12, 12, 128)       512       \n",
      "_________________________________________________________________\n",
      "conv2d_13 (Conv2D)           (None, 12, 12, 128)       147584    \n",
      "_________________________________________________________________\n",
      "activation_16 (Activation)   (None, 12, 12, 128)       0         \n",
      "_________________________________________________________________\n",
      "batch_normalization_15 (Batc (None, 12, 12, 128)       512       \n",
      "_________________________________________________________________\n",
      "max_pooling2d_6 (MaxPooling2 (None, 6, 6, 128)         0         \n",
      "_________________________________________________________________\n",
      "dropout_8 (Dropout)          (None, 6, 6, 128)         0         \n",
      "_________________________________________________________________\n",
      "conv2d_14 (Conv2D)           (None, 6, 6, 256)         295168    \n",
      "_________________________________________________________________\n",
      "activation_17 (Activation)   (None, 6, 6, 256)         0         \n",
      "_________________________________________________________________\n",
      "batch_normalization_16 (Batc (None, 6, 6, 256)         1024      \n",
      "_________________________________________________________________\n",
      "conv2d_15 (Conv2D)           (None, 6, 6, 256)         590080    \n",
      "_________________________________________________________________\n",
      "activation_18 (Activation)   (None, 6, 6, 256)         0         \n",
      "_________________________________________________________________\n",
      "batch_normalization_17 (Batc (None, 6, 6, 256)         1024      \n",
      "_________________________________________________________________\n",
      "max_pooling2d_7 (MaxPooling2 (None, 3, 3, 256)         0         \n",
      "_________________________________________________________________\n",
      "dropout_9 (Dropout)          (None, 3, 3, 256)         0         \n",
      "_________________________________________________________________\n",
      "flatten_1 (Flatten)          (None, 2304)              0         \n",
      "_________________________________________________________________\n",
      "dense_3 (Dense)              (None, 64)                147520    \n",
      "_________________________________________________________________\n",
      "activation_19 (Activation)   (None, 64)                0         \n",
      "_________________________________________________________________\n",
      "batch_normalization_18 (Batc (None, 64)                256       \n",
      "_________________________________________________________________\n",
      "dropout_10 (Dropout)         (None, 64)                0         \n",
      "_________________________________________________________________\n",
      "dense_4 (Dense)              (None, 64)                4160      \n",
      "_________________________________________________________________\n",
      "activation_20 (Activation)   (None, 64)                0         \n",
      "_________________________________________________________________\n",
      "batch_normalization_19 (Batc (None, 64)                256       \n",
      "_________________________________________________________________\n",
      "dropout_11 (Dropout)         (None, 64)                0         \n",
      "_________________________________________________________________\n",
      "dense_5 (Dense)              (None, 7)                 455       \n",
      "_________________________________________________________________\n",
      "activation_21 (Activation)   (None, 7)                 0         \n",
      "=================================================================\n",
      "Total params: 1,328,167\n",
      "Trainable params: 1,325,991\n",
      "Non-trainable params: 2,176\n",
      "_________________________________________________________________\n",
      "None\n"
     ]
    }
   ],
   "source": [
    "model = Sequential()\n",
    "\n",
    "# Block-1\n",
    "\n",
    "model.add(Conv2D(32,(3,3),padding='same',input_shape=(img_rows,img_cols,1)))\n",
    "model.add(Activation('relu'))\n",
    "model.add(BatchNormalization())\n",
    "model.add(Conv2D(32,(3,3),padding='same',input_shape=(img_rows,img_cols,1)))\n",
    "model.add(Activation('relu'))\n",
    "model.add(BatchNormalization())\n",
    "model.add(MaxPooling2D(pool_size=(2,2)))\n",
    "model.add(Dropout(0.2))\n",
    "\n",
    "# Block-2 \n",
    "\n",
    "model.add(Conv2D(64,(3,3),padding='same'))\n",
    "model.add(Activation('relu'))\n",
    "model.add(BatchNormalization())\n",
    "model.add(Conv2D(64,(3,3),padding='same'))\n",
    "model.add(Activation('relu'))\n",
    "model.add(BatchNormalization())\n",
    "model.add(MaxPooling2D(pool_size=(2,2)))\n",
    "model.add(Dropout(0.2))\n",
    "\n",
    "# Block-3\n",
    "\n",
    "model.add(Conv2D(128,(3,3),padding='same'))\n",
    "model.add(Activation('relu'))\n",
    "model.add(BatchNormalization())\n",
    "model.add(Conv2D(128,(3,3),padding='same'))\n",
    "model.add(Activation('relu'))\n",
    "model.add(BatchNormalization())\n",
    "model.add(MaxPooling2D(pool_size=(2,2)))\n",
    "model.add(Dropout(0.2))\n",
    "\n",
    "# Block-4 \n",
    "\n",
    "model.add(Conv2D(256,(3,3),padding='same'))\n",
    "model.add(Activation('relu'))\n",
    "model.add(BatchNormalization())\n",
    "model.add(Conv2D(256,(3,3),padding='same'))\n",
    "model.add(Activation('relu'))\n",
    "model.add(BatchNormalization())\n",
    "model.add(MaxPooling2D(pool_size=(2,2)))\n",
    "model.add(Dropout(0.2))\n",
    "\n",
    "# Block-5\n",
    "\n",
    "model.add(Flatten())\n",
    "model.add(Dense(64))\n",
    "model.add(Activation('relu'))\n",
    "model.add(BatchNormalization())\n",
    "model.add(Dropout(0.5))\n",
    "\n",
    "# Block-6\n",
    "\n",
    "model.add(Dense(64))\n",
    "model.add(Activation('relu'))\n",
    "model.add(BatchNormalization())\n",
    "model.add(Dropout(0.5))\n",
    "\n",
    "# Block-7\n",
    "\n",
    "model.add(Dense(7))\n",
    "model.add(Activation('softmax'))\n",
    "\n",
    "print(model.summary())\n"
   ]
  },
  {
   "cell_type": "markdown",
   "metadata": {},
   "source": [
    "The more hyperparameters are model checkpoints which  saves the model in every epochs which has the best result by monitoring the validation loss . Early stopping stops the model automatically is validation loss doesn't improves at the rate of 3 epochs and at last we are adding the reduce LR Plateau whcih helps to dynamically changing the learning rate , here we are monitoring the validation loss at rate of 3 epochs.\n",
    "And we using the categorical crossentropy as loss function as it is categorical classification , Adam optimizer we are using because it gives the momentum Also is takes long step from left to right and small step from top to bottom."
   ]
  },
  {
   "cell_type": "code",
   "execution_count": 87,
   "metadata": {
    "execution": {
     "iopub.execute_input": "2021-07-09T10:13:24.361229Z",
     "iopub.status.busy": "2021-07-09T10:13:24.360872Z",
     "iopub.status.idle": "2021-07-09T10:13:24.376453Z",
     "shell.execute_reply": "2021-07-09T10:13:24.375527Z",
     "shell.execute_reply.started": "2021-07-09T10:13:24.361192Z"
    }
   },
   "outputs": [],
   "source": [
    "from keras.optimizers import RMSprop,SGD,Adam\n",
    "from keras.callbacks import ModelCheckpoint, EarlyStopping, ReduceLROnPlateau\n",
    "\n",
    "checkpoint = ModelCheckpoint('emoji.h5',\n",
    "                             monitor='val_loss',\n",
    "                             mode='min',\n",
    "                             save_best_only=True,\n",
    "                             verbose=1)\n",
    "\n",
    "earlystop = EarlyStopping(monitor='val_loss',\n",
    "                          min_delta=0,\n",
    "                          patience=3,\n",
    "                          verbose=1,\n",
    "                          restore_best_weights=True\n",
    "                          )\n",
    "\n",
    "reduce_lr = ReduceLROnPlateau(monitor='val_loss',\n",
    "                              factor=0.2,\n",
    "                              patience=3,\n",
    "                              verbose=1,\n",
    "                              min_delta=0.0001)\n",
    "\n",
    "callbacks = [earlystop,checkpoint,reduce_lr]\n",
    "\n",
    "model.compile(loss='categorical_crossentropy',\n",
    "              optimizer = Adam(lr=0.001),\n",
    "              metrics=['accuracy'])\n",
    "\n"
   ]
  },
  {
   "cell_type": "markdown",
   "metadata": {},
   "source": [
    "Then we are training the model by giving training set and validation and giving callbacks and maximum 100 epochs"
   ]
  },
  {
   "cell_type": "code",
   "execution_count": 88,
   "metadata": {
    "execution": {
     "iopub.execute_input": "2021-07-09T10:13:24.379537Z",
     "iopub.status.busy": "2021-07-09T10:13:24.379292Z",
     "iopub.status.idle": "2021-07-09T10:22:36.156259Z",
     "shell.execute_reply": "2021-07-09T10:22:36.154983Z",
     "shell.execute_reply.started": "2021-07-09T10:13:24.379512Z"
    }
   },
   "outputs": [
    {
     "name": "stdout",
     "output_type": "stream",
     "text": [
      "Epoch 1/100\n",
      "898/898 [==============================] - 39s 41ms/step - loss: 2.3590 - accuracy: 0.1951 - val_loss: 1.6481 - val_accuracy: 0.3335\n",
      "\n",
      "Epoch 00001: val_loss improved from inf to 1.64806, saving model to emoji.h5\n",
      "Epoch 2/100\n",
      "898/898 [==============================] - 37s 41ms/step - loss: 1.6708 - accuracy: 0.3370 - val_loss: 1.3970 - val_accuracy: 0.4536\n",
      "\n",
      "Epoch 00002: val_loss improved from 1.64806 to 1.39699, saving model to emoji.h5\n",
      "Epoch 3/100\n",
      "898/898 [==============================] - 37s 41ms/step - loss: 1.4428 - accuracy: 0.4411 - val_loss: 1.3036 - val_accuracy: 0.4921\n",
      "\n",
      "Epoch 00003: val_loss improved from 1.39699 to 1.30358, saving model to emoji.h5\n",
      "Epoch 4/100\n",
      "898/898 [==============================] - 37s 41ms/step - loss: 1.3514 - accuracy: 0.4869 - val_loss: 1.2315 - val_accuracy: 0.5227\n",
      "\n",
      "Epoch 00004: val_loss improved from 1.30358 to 1.23154, saving model to emoji.h5\n",
      "Epoch 5/100\n",
      "898/898 [==============================] - 37s 41ms/step - loss: 1.2546 - accuracy: 0.5315 - val_loss: 1.1694 - val_accuracy: 0.5528\n",
      "\n",
      "Epoch 00005: val_loss improved from 1.23154 to 1.16936, saving model to emoji.h5\n",
      "Epoch 6/100\n",
      "898/898 [==============================] - 37s 41ms/step - loss: 1.2031 - accuracy: 0.5542 - val_loss: 1.1896 - val_accuracy: 0.5456\n",
      "\n",
      "Epoch 00006: val_loss did not improve from 1.16936\n",
      "Epoch 7/100\n",
      "898/898 [==============================] - 36s 41ms/step - loss: 1.1493 - accuracy: 0.5769 - val_loss: 1.2132 - val_accuracy: 0.5372\n",
      "\n",
      "Epoch 00007: val_loss did not improve from 1.16936\n",
      "Epoch 8/100\n",
      "898/898 [==============================] - 36s 41ms/step - loss: 1.0905 - accuracy: 0.5999 - val_loss: 1.1422 - val_accuracy: 0.5740\n",
      "\n",
      "Epoch 00008: val_loss improved from 1.16936 to 1.14217, saving model to emoji.h5\n",
      "Epoch 9/100\n",
      "898/898 [==============================] - 36s 41ms/step - loss: 1.0681 - accuracy: 0.6143 - val_loss: 1.0756 - val_accuracy: 0.5949\n",
      "\n",
      "Epoch 00009: val_loss improved from 1.14217 to 1.07557, saving model to emoji.h5\n",
      "Epoch 10/100\n",
      "898/898 [==============================] - 36s 41ms/step - loss: 1.0120 - accuracy: 0.6307 - val_loss: 1.0963 - val_accuracy: 0.5893\n",
      "\n",
      "Epoch 00010: val_loss did not improve from 1.07557\n",
      "Epoch 11/100\n",
      "898/898 [==============================] - 36s 41ms/step - loss: 0.9605 - accuracy: 0.6515 - val_loss: 1.0375 - val_accuracy: 0.6141\n",
      "\n",
      "Epoch 00011: val_loss improved from 1.07557 to 1.03747, saving model to emoji.h5\n",
      "Epoch 12/100\n",
      "898/898 [==============================] - 36s 40ms/step - loss: 0.9100 - accuracy: 0.6737 - val_loss: 1.0199 - val_accuracy: 0.6280\n",
      "\n",
      "Epoch 00012: val_loss improved from 1.03747 to 1.01990, saving model to emoji.h5\n",
      "Epoch 13/100\n",
      "898/898 [==============================] - 36s 40ms/step - loss: 0.8682 - accuracy: 0.6908 - val_loss: 1.0564 - val_accuracy: 0.6130\n",
      "\n",
      "Epoch 00013: val_loss did not improve from 1.01990\n",
      "Epoch 14/100\n",
      "898/898 [==============================] - 36s 40ms/step - loss: 0.8113 - accuracy: 0.7122 - val_loss: 1.0627 - val_accuracy: 0.6272\n",
      "\n",
      "Epoch 00014: val_loss did not improve from 1.01990\n",
      "Epoch 15/100\n",
      "898/898 [==============================] - 36s 40ms/step - loss: 0.7684 - accuracy: 0.7297 - val_loss: 1.0484 - val_accuracy: 0.6303\n",
      "Restoring model weights from the end of the best epoch.\n",
      "\n",
      "Epoch 00015: val_loss did not improve from 1.01990\n",
      "\n",
      "Epoch 00015: ReduceLROnPlateau reducing learning rate to 0.00020000000949949026.\n",
      "Epoch 00015: early stopping\n"
     ]
    }
   ],
   "source": [
    "hist = model.fit(full_train_images, y_train_ohe, epochs=100, verbose=1,\n",
    "          validation_data=(val_images, y_val_ohe), shuffle=True, callbacks=callbacks)\n",
    "\n"
   ]
  },
  {
   "cell_type": "markdown",
   "metadata": {},
   "source": [
    "now we evaluating the model by test set which gives the 63 % accuracy"
   ]
  },
  {
   "cell_type": "code",
   "execution_count": 89,
   "metadata": {
    "execution": {
     "iopub.execute_input": "2021-07-09T10:22:36.157844Z",
     "iopub.status.busy": "2021-07-09T10:22:36.157499Z",
     "iopub.status.idle": "2021-07-09T10:22:39.783153Z",
     "shell.execute_reply": "2021-07-09T10:22:39.782296Z",
     "shell.execute_reply.started": "2021-07-09T10:22:36.157806Z"
    }
   },
   "outputs": [
    {
     "name": "stdout",
     "output_type": "stream",
     "text": [
      "Training Accuracy:  0.7219687104225159\n",
      "Validation Accuracy:  0.630259096622467\n",
      "113/113 [==============================] - 4s 32ms/step - loss: 0.9804 - accuracy: 0.6305\n",
      "Test score: 0.9803521037101746\n",
      "Test accuracy: 0.630537748336792\n"
     ]
    }
   ],
   "source": [
    "# training loss and accuracy\n",
    "train_acc = hist.history['accuracy']\n",
    "val_acc = hist.history['val_accuracy']\n",
    "print('Training Accuracy: ', train_acc[-1])\n",
    "print('Validation Accuracy: ', val_acc[-1])\n",
    "\n",
    "# test loss and accuracy\n",
    "score, acc = model.evaluate(test_images, y_test_ohe)\n",
    "print('Test score:', score)\n",
    "print('Test accuracy:', acc)"
   ]
  },
  {
   "cell_type": "markdown",
   "metadata": {},
   "source": [
    "now by visualiztion we can see that the gap between training and validation accuracy and training and validation loss is less in the below graph so it is not overfitting"
   ]
  },
  {
   "cell_type": "code",
   "execution_count": 90,
   "metadata": {
    "execution": {
     "iopub.execute_input": "2021-07-09T10:22:39.784832Z",
     "iopub.status.busy": "2021-07-09T10:22:39.784483Z",
     "iopub.status.idle": "2021-07-09T10:22:40.076390Z",
     "shell.execute_reply": "2021-07-09T10:22:40.075441Z",
     "shell.execute_reply.started": "2021-07-09T10:22:39.784797Z"
    }
   },
   "outputs": [
    {
     "data": {
      "image/png": "[encoded data removed]",
      "text/plain": [
       "<Figure size 1152x360 with 2 Axes>"
      ]
     },
     "metadata": {
      "needs_background": "light"
     },
     "output_type": "display_data"
    }
   ],
   "source": [
    "\n",
    "plt.figure(figsize=(16,5))\n",
    "# training loss graph\n",
    "plt.subplot(1, 2, 1)\n",
    "plt.suptitle('Optimizer : Adam', fontsize=10)\n",
    "plt.ylabel('Loss', fontsize=16)\n",
    "plt.plot(hist.history['loss'], color='b', label='Training Loss')\n",
    "plt.plot(hist.history['val_loss'], color='r', label='Validation Loss')\n",
    "plt.legend(loc='upper right')\n",
    "\n",
    "# training accuracy graph\n",
    "plt.subplot(1, 2, 2)\n",
    "plt.ylabel('Accuracy', fontsize=16)\n",
    "plt.plot(hist.history['accuracy'], color='b', label='Training Accuracy')\n",
    "plt.plot(hist.history['val_accuracy'], color='r', label='Validation Accuracy')\n",
    "plt.legend(loc='lower right')\n",
    "plt.show()"
   ]
  },
  {
   "cell_type": "markdown",
   "metadata": {},
   "source": [
    "Now we predicting the output emojis in test set"
   ]
  },
  {
   "cell_type": "code",
   "execution_count": 91,
   "metadata": {
    "execution": {
     "iopub.execute_input": "2021-07-09T10:22:40.077986Z",
     "iopub.status.busy": "2021-07-09T10:22:40.077648Z",
     "iopub.status.idle": "2021-07-09T10:22:43.576822Z",
     "shell.execute_reply": "2021-07-09T10:22:43.575878Z",
     "shell.execute_reply.started": "2021-07-09T10:22:40.077950Z"
    }
   },
   "outputs": [],
   "source": [
    "test_res = model.predict(test_images)"
   ]
  },
  {
   "cell_type": "code",
   "execution_count": 92,
   "metadata": {
    "execution": {
     "iopub.execute_input": "2021-07-09T10:22:43.583863Z",
     "iopub.status.busy": "2021-07-09T10:22:43.581702Z",
     "iopub.status.idle": "2021-07-09T10:22:43.589911Z",
     "shell.execute_reply": "2021-07-09T10:22:43.588827Z",
     "shell.execute_reply.started": "2021-07-09T10:22:43.583823Z"
    }
   },
   "outputs": [],
   "source": [
    "test_res = np.argmax(test_res,axis=1)"
   ]
  },
  {
   "cell_type": "markdown",
   "metadata": {},
   "source": [
    "Transforming output label to emojis in tes tset"
   ]
  },
  {
   "cell_type": "code",
   "execution_count": 93,
   "metadata": {
    "execution": {
     "iopub.execute_input": "2021-07-09T10:22:43.596795Z",
     "iopub.status.busy": "2021-07-09T10:22:43.594389Z",
     "iopub.status.idle": "2021-07-09T10:22:43.629833Z",
     "shell.execute_reply": "2021-07-09T10:22:43.628986Z",
     "shell.execute_reply.started": "2021-07-09T10:22:43.596759Z"
    }
   },
   "outputs": [],
   "source": [
    "res_final = pd.DataFrame()\n",
    "res_final[\"pixels\"] = data[\"pixels\"][data['Usage']=='PrivateTest']\n",
    "res_final[\"emoji\"] = test_res\n",
    "res_final.loc[res_final.emoji == 0, \"emoji\"] = \"😡\"\n",
    "res_final.loc[res_final.emoji == 1, \"emoji\"] = \"🤢\"\n",
    "res_final.loc[res_final.emoji == 2, \"emoji\"] = \"😰\"\n",
    "res_final.loc[res_final.emoji == 3, \"emoji\"] = \"😁\"\n",
    "res_final.loc[res_final.emoji == 4, \"emoji\"] = \"😥\"\n",
    "res_final.loc[res_final.emoji == 5, \"emoji\"] = \"😱\"\n",
    "res_final.loc[res_final.emoji == 6, \"emoji\"] = \"😀\"\n",
    "res_final = res_final.reset_index()"
   ]
  },
  {
   "cell_type": "markdown",
   "metadata": {},
   "source": [
    "Visulaizing the emojis in test set as dataframe"
   ]
  },
  {
   "cell_type": "code",
   "execution_count": 94,
   "metadata": {
    "execution": {
     "iopub.execute_input": "2021-07-09T10:22:43.635605Z",
     "iopub.status.busy": "2021-07-09T10:22:43.633454Z",
     "iopub.status.idle": "2021-07-09T10:22:43.655306Z",
     "shell.execute_reply": "2021-07-09T10:22:43.654439Z",
     "shell.execute_reply.started": "2021-07-09T10:22:43.635496Z"
    }
   },
   "outputs": [
    {
     "data": {
      "text/html": [
       "<div>\n",
       "<style scoped>\n",
       "    .dataframe tbody tr th:only-of-type {\n",
       "        vertical-align: middle;\n",
       "    }\n",
       "\n",
       "    .dataframe tbody tr th {\n",
       "        vertical-align: top;\n",
       "    }\n",
       "\n",
       "    .dataframe thead th {\n",
       "        text-align: right;\n",
       "    }\n",
       "</style>\n",
       "<table border=\"1\" class=\"dataframe\">\n",
       "  <thead>\n",
       "    <tr style=\"text-align: right;\">\n",
       "      <th></th>\n",
       "      <th>index</th>\n",
       "      <th>pixels</th>\n",
       "      <th>emoji</th>\n",
       "    </tr>\n",
       "  </thead>\n",
       "  <tbody>\n",
       "    <tr>\n",
       "      <th>0</th>\n",
       "      <td>32298</td>\n",
       "      <td>170 118 101 88 88 75 78 82 66 74 68 59 63 64 6...</td>\n",
       "      <td>😡</td>\n",
       "    </tr>\n",
       "    <tr>\n",
       "      <th>1</th>\n",
       "      <td>32299</td>\n",
       "      <td>7 5 8 6 7 3 2 6 5 4 4 5 7 5 5 5 6 7 7 7 10 10 ...</td>\n",
       "      <td>😥</td>\n",
       "    </tr>\n",
       "    <tr>\n",
       "      <th>2</th>\n",
       "      <td>32300</td>\n",
       "      <td>232 240 241 239 237 235 246 117 24 24 22 13 12...</td>\n",
       "      <td>😰</td>\n",
       "    </tr>\n",
       "    <tr>\n",
       "      <th>3</th>\n",
       "      <td>32301</td>\n",
       "      <td>200 197 149 139 156 89 111 58 62 95 113 117 11...</td>\n",
       "      <td>😥</td>\n",
       "    </tr>\n",
       "    <tr>\n",
       "      <th>4</th>\n",
       "      <td>32302</td>\n",
       "      <td>40 28 33 56 45 33 31 78 152 194 200 186 196 20...</td>\n",
       "      <td>😱</td>\n",
       "    </tr>\n",
       "    <tr>\n",
       "      <th>...</th>\n",
       "      <td>...</td>\n",
       "      <td>...</td>\n",
       "      <td>...</td>\n",
       "    </tr>\n",
       "    <tr>\n",
       "      <th>3584</th>\n",
       "      <td>35882</td>\n",
       "      <td>50 36 17 22 23 29 33 39 34 37 37 37 39 43 48 5...</td>\n",
       "      <td>😀</td>\n",
       "    </tr>\n",
       "    <tr>\n",
       "      <th>3585</th>\n",
       "      <td>35883</td>\n",
       "      <td>178 174 172 173 181 188 191 194 196 199 200 20...</td>\n",
       "      <td>😁</td>\n",
       "    </tr>\n",
       "    <tr>\n",
       "      <th>3586</th>\n",
       "      <td>35884</td>\n",
       "      <td>17 17 16 23 28 22 19 17 25 26 20 24 31 19 27 9...</td>\n",
       "      <td>😥</td>\n",
       "    </tr>\n",
       "    <tr>\n",
       "      <th>3587</th>\n",
       "      <td>35885</td>\n",
       "      <td>30 28 28 29 31 30 42 68 79 81 77 67 67 71 63 6...</td>\n",
       "      <td>😁</td>\n",
       "    </tr>\n",
       "    <tr>\n",
       "      <th>3588</th>\n",
       "      <td>35886</td>\n",
       "      <td>19 13 14 12 13 16 21 33 50 57 71 84 97 108 122...</td>\n",
       "      <td>😥</td>\n",
       "    </tr>\n",
       "  </tbody>\n",
       "</table>\n",
       "<p>3589 rows × 3 columns</p>\n",
       "</div>"
      ],
      "text/plain": [
       "      index                                             pixels emoji\n",
       "0     32298  170 118 101 88 88 75 78 82 66 74 68 59 63 64 6...     😡\n",
       "1     32299  7 5 8 6 7 3 2 6 5 4 4 5 7 5 5 5 6 7 7 7 10 10 ...     😥\n",
       "2     32300  232 240 241 239 237 235 246 117 24 24 22 13 12...     😰\n",
       "3     32301  200 197 149 139 156 89 111 58 62 95 113 117 11...     😥\n",
       "4     32302  40 28 33 56 45 33 31 78 152 194 200 186 196 20...     😱\n",
       "...     ...                                                ...   ...\n",
       "3584  35882  50 36 17 22 23 29 33 39 34 37 37 37 39 43 48 5...     😀\n",
       "3585  35883  178 174 172 173 181 188 191 194 196 199 200 20...     😁\n",
       "3586  35884  17 17 16 23 28 22 19 17 25 26 20 24 31 19 27 9...     😥\n",
       "3587  35885  30 28 28 29 31 30 42 68 79 81 77 67 67 71 63 6...     😁\n",
       "3588  35886  19 13 14 12 13 16 21 33 50 57 71 84 97 108 122...     😥\n",
       "\n",
       "[3589 rows x 3 columns]"
      ]
     },
     "execution_count": 94,
     "metadata": {},
     "output_type": "execute_result"
    }
   ],
   "source": [
    "res_final"
   ]
  },
  {
   "cell_type": "markdown",
   "metadata": {},
   "source": [
    "Transforming output label to emojis in validation set\n"
   ]
  },
  {
   "cell_type": "code",
   "execution_count": 96,
   "metadata": {
    "execution": {
     "iopub.execute_input": "2021-07-09T10:22:43.673409Z",
     "iopub.status.busy": "2021-07-09T10:22:43.671143Z",
     "iopub.status.idle": "2021-07-09T10:22:43.701916Z",
     "shell.execute_reply": "2021-07-09T10:22:43.701069Z",
     "shell.execute_reply.started": "2021-07-09T10:22:43.673371Z"
    }
   },
   "outputs": [],
   "source": [
    "val_test = pd.DataFrame()\n",
    "val_test = data[data['Usage']=='PublicTest']\n",
    "val_test.loc[val_test.emotion == 0, \"emoji\"] = \"😡\"\n",
    "val_test.loc[val_test.emotion == 1, \"emoji\"] = \"🤢\"\n",
    "val_test.loc[val_test.emotion == 2, \"emoji\"] = \"😰\"\n",
    "val_test.loc[val_test.emotion == 3, \"emoji\"] = \"😁\"\n",
    "val_test.loc[val_test.emotion == 4, \"emoji\"] = \"😥\"\n",
    "val_test.loc[val_test.emotion == 5, \"emoji\"] = \"😱\"\n",
    "val_test.loc[val_test.emotion == 6, \"emoji\"] = \"😀\"\n",
    "val_test = val_test.reset_index()"
   ]
  },
  {
   "cell_type": "markdown",
   "metadata": {},
   "source": [
    "Visulaizing the emojis in validation set as dataframe"
   ]
  },
  {
   "cell_type": "code",
   "execution_count": 97,
   "metadata": {
    "execution": {
     "iopub.execute_input": "2021-07-09T10:22:43.707521Z",
     "iopub.status.busy": "2021-07-09T10:22:43.705474Z",
     "iopub.status.idle": "2021-07-09T10:22:43.729955Z",
     "shell.execute_reply": "2021-07-09T10:22:43.729100Z",
     "shell.execute_reply.started": "2021-07-09T10:22:43.707484Z"
    }
   },
   "outputs": [
    {
     "data": {
      "text/html": [
       "<div>\n",
       "<style scoped>\n",
       "    .dataframe tbody tr th:only-of-type {\n",
       "        vertical-align: middle;\n",
       "    }\n",
       "\n",
       "    .dataframe tbody tr th {\n",
       "        vertical-align: top;\n",
       "    }\n",
       "\n",
       "    .dataframe thead th {\n",
       "        text-align: right;\n",
       "    }\n",
       "</style>\n",
       "<table border=\"1\" class=\"dataframe\">\n",
       "  <thead>\n",
       "    <tr style=\"text-align: right;\">\n",
       "      <th></th>\n",
       "      <th>index</th>\n",
       "      <th>emotion</th>\n",
       "      <th>Usage</th>\n",
       "      <th>pixels</th>\n",
       "      <th>emoji</th>\n",
       "    </tr>\n",
       "  </thead>\n",
       "  <tbody>\n",
       "    <tr>\n",
       "      <th>0</th>\n",
       "      <td>28709</td>\n",
       "      <td>0</td>\n",
       "      <td>PublicTest</td>\n",
       "      <td>254 254 254 254 254 249 255 160 2 58 53 70 77 ...</td>\n",
       "      <td>😡</td>\n",
       "    </tr>\n",
       "    <tr>\n",
       "      <th>1</th>\n",
       "      <td>28710</td>\n",
       "      <td>1</td>\n",
       "      <td>PublicTest</td>\n",
       "      <td>156 184 198 202 204 207 210 212 213 214 215 21...</td>\n",
       "      <td>🤢</td>\n",
       "    </tr>\n",
       "    <tr>\n",
       "      <th>2</th>\n",
       "      <td>28711</td>\n",
       "      <td>4</td>\n",
       "      <td>PublicTest</td>\n",
       "      <td>69 118 61 60 96 121 103 87 103 88 70 90 115 12...</td>\n",
       "      <td>😥</td>\n",
       "    </tr>\n",
       "    <tr>\n",
       "      <th>3</th>\n",
       "      <td>28712</td>\n",
       "      <td>6</td>\n",
       "      <td>PublicTest</td>\n",
       "      <td>205 203 236 157 83 158 120 116 94 86 155 180 2...</td>\n",
       "      <td>😀</td>\n",
       "    </tr>\n",
       "    <tr>\n",
       "      <th>4</th>\n",
       "      <td>28713</td>\n",
       "      <td>3</td>\n",
       "      <td>PublicTest</td>\n",
       "      <td>87 79 74 66 74 96 77 80 80 84 83 89 102 91 84 ...</td>\n",
       "      <td>😁</td>\n",
       "    </tr>\n",
       "    <tr>\n",
       "      <th>...</th>\n",
       "      <td>...</td>\n",
       "      <td>...</td>\n",
       "      <td>...</td>\n",
       "      <td>...</td>\n",
       "      <td>...</td>\n",
       "    </tr>\n",
       "    <tr>\n",
       "      <th>3584</th>\n",
       "      <td>32293</td>\n",
       "      <td>4</td>\n",
       "      <td>PublicTest</td>\n",
       "      <td>178 176 172 173 173 174 176 173 166 166 206 22...</td>\n",
       "      <td>😥</td>\n",
       "    </tr>\n",
       "    <tr>\n",
       "      <th>3585</th>\n",
       "      <td>32294</td>\n",
       "      <td>3</td>\n",
       "      <td>PublicTest</td>\n",
       "      <td>25 34 42 44 42 47 57 59 59 58 54 51 50 56 63 6...</td>\n",
       "      <td>😁</td>\n",
       "    </tr>\n",
       "    <tr>\n",
       "      <th>3586</th>\n",
       "      <td>32295</td>\n",
       "      <td>4</td>\n",
       "      <td>PublicTest</td>\n",
       "      <td>255 255 255 255 255 255 255 255 255 255 255 25...</td>\n",
       "      <td>😥</td>\n",
       "    </tr>\n",
       "    <tr>\n",
       "      <th>3587</th>\n",
       "      <td>32296</td>\n",
       "      <td>4</td>\n",
       "      <td>PublicTest</td>\n",
       "      <td>33 25 31 36 36 42 69 103 132 163 175 183 187 1...</td>\n",
       "      <td>😥</td>\n",
       "    </tr>\n",
       "    <tr>\n",
       "      <th>3588</th>\n",
       "      <td>32297</td>\n",
       "      <td>4</td>\n",
       "      <td>PublicTest</td>\n",
       "      <td>61 63 59 75 151 159 166 161 143 170 127 131 18...</td>\n",
       "      <td>😥</td>\n",
       "    </tr>\n",
       "  </tbody>\n",
       "</table>\n",
       "<p>3589 rows × 5 columns</p>\n",
       "</div>"
      ],
      "text/plain": [
       "      index  emotion       Usage  \\\n",
       "0     28709        0  PublicTest   \n",
       "1     28710        1  PublicTest   \n",
       "2     28711        4  PublicTest   \n",
       "3     28712        6  PublicTest   \n",
       "4     28713        3  PublicTest   \n",
       "...     ...      ...         ...   \n",
       "3584  32293        4  PublicTest   \n",
       "3585  32294        3  PublicTest   \n",
       "3586  32295        4  PublicTest   \n",
       "3587  32296        4  PublicTest   \n",
       "3588  32297        4  PublicTest   \n",
       "\n",
       "                                                 pixels emoji  \n",
       "0     254 254 254 254 254 249 255 160 2 58 53 70 77 ...     😡  \n",
       "1     156 184 198 202 204 207 210 212 213 214 215 21...     🤢  \n",
       "2     69 118 61 60 96 121 103 87 103 88 70 90 115 12...     😥  \n",
       "3     205 203 236 157 83 158 120 116 94 86 155 180 2...     😀  \n",
       "4     87 79 74 66 74 96 77 80 80 84 83 89 102 91 84 ...     😁  \n",
       "...                                                 ...   ...  \n",
       "3584  178 176 172 173 173 174 176 173 166 166 206 22...     😥  \n",
       "3585  25 34 42 44 42 47 57 59 59 58 54 51 50 56 63 6...     😁  \n",
       "3586  255 255 255 255 255 255 255 255 255 255 255 25...     😥  \n",
       "3587  33 25 31 36 36 42 69 103 132 163 175 183 187 1...     😥  \n",
       "3588  61 63 59 75 151 159 166 161 143 170 127 131 18...     😥  \n",
       "\n",
       "[3589 rows x 5 columns]"
      ]
     },
     "execution_count": 97,
     "metadata": {},
     "output_type": "execute_result"
    }
   ],
   "source": [
    "val_test"
   ]
  },
  {
   "cell_type": "markdown",
   "metadata": {},
   "source": [
    "Transforming output label to emojis in training set\n"
   ]
  },
  {
   "cell_type": "code",
   "execution_count": 98,
   "metadata": {
    "execution": {
     "iopub.execute_input": "2021-07-09T10:22:43.737856Z",
     "iopub.status.busy": "2021-07-09T10:22:43.735814Z",
     "iopub.status.idle": "2021-07-09T10:22:43.779918Z",
     "shell.execute_reply": "2021-07-09T10:22:43.779067Z",
     "shell.execute_reply.started": "2021-07-09T10:22:43.737817Z"
    }
   },
   "outputs": [],
   "source": [
    "training = pd.DataFrame()\n",
    "training = data[data['Usage']=='Training']\n",
    "training.loc[training.emotion == 0, \"emoji\"] = \"😡\"\n",
    "training.loc[training.emotion == 1, \"emoji\"] = \"🤢\"\n",
    "training.loc[training.emotion == 2, \"emoji\"] = \"😰\"\n",
    "training.loc[training.emotion == 3, \"emoji\"] = \"😁\"\n",
    "training.loc[training.emotion == 4, \"emoji\"] = \"😥\"\n",
    "training.loc[training.emotion == 5, \"emoji\"] = \"😱\"\n",
    "training.loc[training.emotion == 6, \"emoji\"] = \"😀\"\n",
    "training = training.reset_index()"
   ]
  },
  {
   "cell_type": "markdown",
   "metadata": {},
   "source": [
    "Visulaizing the emojis in training set as dataframe"
   ]
  },
  {
   "cell_type": "code",
   "execution_count": 99,
   "metadata": {
    "execution": {
     "iopub.execute_input": "2021-07-09T10:22:43.785892Z",
     "iopub.status.busy": "2021-07-09T10:22:43.783847Z",
     "iopub.status.idle": "2021-07-09T10:22:43.811384Z",
     "shell.execute_reply": "2021-07-09T10:22:43.805203Z",
     "shell.execute_reply.started": "2021-07-09T10:22:43.785855Z"
    }
   },
   "outputs": [
    {
     "data": {
      "text/html": [
       "<div>\n",
       "<style scoped>\n",
       "    .dataframe tbody tr th:only-of-type {\n",
       "        vertical-align: middle;\n",
       "    }\n",
       "\n",
       "    .dataframe tbody tr th {\n",
       "        vertical-align: top;\n",
       "    }\n",
       "\n",
       "    .dataframe thead th {\n",
       "        text-align: right;\n",
       "    }\n",
       "</style>\n",
       "<table border=\"1\" class=\"dataframe\">\n",
       "  <thead>\n",
       "    <tr style=\"text-align: right;\">\n",
       "      <th></th>\n",
       "      <th>index</th>\n",
       "      <th>emotion</th>\n",
       "      <th>Usage</th>\n",
       "      <th>pixels</th>\n",
       "      <th>emoji</th>\n",
       "    </tr>\n",
       "  </thead>\n",
       "  <tbody>\n",
       "    <tr>\n",
       "      <th>0</th>\n",
       "      <td>0</td>\n",
       "      <td>0</td>\n",
       "      <td>Training</td>\n",
       "      <td>70 80 82 72 58 58 60 63 54 58 60 48 89 115 121...</td>\n",
       "      <td>😡</td>\n",
       "    </tr>\n",
       "    <tr>\n",
       "      <th>1</th>\n",
       "      <td>1</td>\n",
       "      <td>0</td>\n",
       "      <td>Training</td>\n",
       "      <td>151 150 147 155 148 133 111 140 170 174 182 15...</td>\n",
       "      <td>😡</td>\n",
       "    </tr>\n",
       "    <tr>\n",
       "      <th>2</th>\n",
       "      <td>2</td>\n",
       "      <td>2</td>\n",
       "      <td>Training</td>\n",
       "      <td>231 212 156 164 174 138 161 173 182 200 106 38...</td>\n",
       "      <td>😰</td>\n",
       "    </tr>\n",
       "    <tr>\n",
       "      <th>3</th>\n",
       "      <td>3</td>\n",
       "      <td>4</td>\n",
       "      <td>Training</td>\n",
       "      <td>24 32 36 30 32 23 19 20 30 41 21 22 32 34 21 1...</td>\n",
       "      <td>😥</td>\n",
       "    </tr>\n",
       "    <tr>\n",
       "      <th>4</th>\n",
       "      <td>4</td>\n",
       "      <td>6</td>\n",
       "      <td>Training</td>\n",
       "      <td>4 0 0 0 0 0 0 0 0 0 0 0 3 15 23 28 48 50 58 84...</td>\n",
       "      <td>😀</td>\n",
       "    </tr>\n",
       "    <tr>\n",
       "      <th>...</th>\n",
       "      <td>...</td>\n",
       "      <td>...</td>\n",
       "      <td>...</td>\n",
       "      <td>...</td>\n",
       "      <td>...</td>\n",
       "    </tr>\n",
       "    <tr>\n",
       "      <th>28704</th>\n",
       "      <td>28704</td>\n",
       "      <td>2</td>\n",
       "      <td>Training</td>\n",
       "      <td>84 85 85 85 85 85 85 85 86 86 86 87 86 86 91 9...</td>\n",
       "      <td>😰</td>\n",
       "    </tr>\n",
       "    <tr>\n",
       "      <th>28705</th>\n",
       "      <td>28705</td>\n",
       "      <td>0</td>\n",
       "      <td>Training</td>\n",
       "      <td>114 112 113 113 111 111 112 113 115 113 114 11...</td>\n",
       "      <td>😡</td>\n",
       "    </tr>\n",
       "    <tr>\n",
       "      <th>28706</th>\n",
       "      <td>28706</td>\n",
       "      <td>4</td>\n",
       "      <td>Training</td>\n",
       "      <td>74 81 87 89 95 100 98 93 105 120 127 133 146 1...</td>\n",
       "      <td>😥</td>\n",
       "    </tr>\n",
       "    <tr>\n",
       "      <th>28707</th>\n",
       "      <td>28707</td>\n",
       "      <td>0</td>\n",
       "      <td>Training</td>\n",
       "      <td>222 227 203 90 86 90 84 77 94 87 99 119 134 14...</td>\n",
       "      <td>😡</td>\n",
       "    </tr>\n",
       "    <tr>\n",
       "      <th>28708</th>\n",
       "      <td>28708</td>\n",
       "      <td>4</td>\n",
       "      <td>Training</td>\n",
       "      <td>195 199 205 206 205 203 206 209 208 210 212 21...</td>\n",
       "      <td>😥</td>\n",
       "    </tr>\n",
       "  </tbody>\n",
       "</table>\n",
       "<p>28709 rows × 5 columns</p>\n",
       "</div>"
      ],
      "text/plain": [
       "       index  emotion     Usage  \\\n",
       "0          0        0  Training   \n",
       "1          1        0  Training   \n",
       "2          2        2  Training   \n",
       "3          3        4  Training   \n",
       "4          4        6  Training   \n",
       "...      ...      ...       ...   \n",
       "28704  28704        2  Training   \n",
       "28705  28705        0  Training   \n",
       "28706  28706        4  Training   \n",
       "28707  28707        0  Training   \n",
       "28708  28708        4  Training   \n",
       "\n",
       "                                                  pixels emoji  \n",
       "0      70 80 82 72 58 58 60 63 54 58 60 48 89 115 121...     😡  \n",
       "1      151 150 147 155 148 133 111 140 170 174 182 15...     😡  \n",
       "2      231 212 156 164 174 138 161 173 182 200 106 38...     😰  \n",
       "3      24 32 36 30 32 23 19 20 30 41 21 22 32 34 21 1...     😥  \n",
       "4      4 0 0 0 0 0 0 0 0 0 0 0 3 15 23 28 48 50 58 84...     😀  \n",
       "...                                                  ...   ...  \n",
       "28704  84 85 85 85 85 85 85 85 86 86 86 87 86 86 91 9...     😰  \n",
       "28705  114 112 113 113 111 111 112 113 115 113 114 11...     😡  \n",
       "28706  74 81 87 89 95 100 98 93 105 120 127 133 146 1...     😥  \n",
       "28707  222 227 203 90 86 90 84 77 94 87 99 119 134 14...     😡  \n",
       "28708  195 199 205 206 205 203 206 209 208 210 212 21...     😥  \n",
       "\n",
       "[28709 rows x 5 columns]"
      ]
     },
     "execution_count": 99,
     "metadata": {},
     "output_type": "execute_result"
    }
   ],
   "source": [
    "training"
   ]
  },
  {
   "cell_type": "markdown",
   "metadata": {},
   "source": [
    "Now we are defing the function so we can see the images and the predicted emojis for the training , validationa and test set"
   ]
  },
  {
   "cell_type": "code",
   "execution_count": 100,
   "metadata": {
    "execution": {
     "iopub.execute_input": "2021-07-09T10:22:43.817107Z",
     "iopub.status.busy": "2021-07-09T10:22:43.815082Z",
     "iopub.status.idle": "2021-07-09T10:22:43.822883Z",
     "shell.execute_reply": "2021-07-09T10:22:43.822115Z",
     "shell.execute_reply.started": "2021-07-09T10:22:43.817071Z"
    }
   },
   "outputs": [],
   "source": [
    "def predict_training(index):\n",
    "    print(training.emoji[index])\n",
    "    plt.imshow(full_train_images[index])"
   ]
  },
  {
   "cell_type": "code",
   "execution_count": 101,
   "metadata": {
    "execution": {
     "iopub.execute_input": "2021-07-09T10:22:43.826934Z",
     "iopub.status.busy": "2021-07-09T10:22:43.825919Z",
     "iopub.status.idle": "2021-07-09T10:22:43.834137Z",
     "shell.execute_reply": "2021-07-09T10:22:43.833204Z",
     "shell.execute_reply.started": "2021-07-09T10:22:43.826897Z"
    }
   },
   "outputs": [],
   "source": [
    "def predict_validation(index):\n",
    "    print(val_test.emoji[index])\n",
    "    plt.imshow(val_images[index])"
   ]
  },
  {
   "cell_type": "code",
   "execution_count": 102,
   "metadata": {
    "execution": {
     "iopub.execute_input": "2021-07-09T10:22:43.837967Z",
     "iopub.status.busy": "2021-07-09T10:22:43.837146Z",
     "iopub.status.idle": "2021-07-09T10:22:43.846533Z",
     "shell.execute_reply": "2021-07-09T10:22:43.845465Z",
     "shell.execute_reply.started": "2021-07-09T10:22:43.837930Z"
    }
   },
   "outputs": [],
   "source": [
    "def predict_test(index):\n",
    "    print(res_final.emoji[index])\n",
    "    plt.imshow(test_images[index])"
   ]
  },
  {
   "cell_type": "markdown",
   "metadata": {},
   "source": [
    "predicted emoji for training which is sad face emoji"
   ]
  },
  {
   "cell_type": "code",
   "execution_count": 107,
   "metadata": {
    "execution": {
     "iopub.execute_input": "2021-07-09T10:44:16.463418Z",
     "iopub.status.busy": "2021-07-09T10:44:16.462982Z",
     "iopub.status.idle": "2021-07-09T10:44:16.632831Z",
     "shell.execute_reply": "2021-07-09T10:44:16.631978Z",
     "shell.execute_reply.started": "2021-07-09T10:44:16.463373Z"
    }
   },
   "outputs": [
    {
     "name": "stdout",
     "output_type": "stream",
     "text": [
      "😥\n"
     ]
    },
    {
     "data": {
      "image/png": "[encoded data removed]",
      "text/plain": [
       "<Figure size 432x288 with 1 Axes>"
      ]
     },
     "metadata": {
      "needs_background": "light"
     },
     "output_type": "display_data"
    }
   ],
   "source": [
    "predict_training(6)"
   ]
  },
  {
   "cell_type": "markdown",
   "metadata": {},
   "source": [
    "predicted emoji for validation which is happy face emoji"
   ]
  },
  {
   "cell_type": "code",
   "execution_count": 108,
   "metadata": {
    "execution": {
     "iopub.execute_input": "2021-07-09T10:45:03.671370Z",
     "iopub.status.busy": "2021-07-09T10:45:03.670951Z",
     "iopub.status.idle": "2021-07-09T10:45:03.784815Z",
     "shell.execute_reply": "2021-07-09T10:45:03.783795Z",
     "shell.execute_reply.started": "2021-07-09T10:45:03.671335Z"
    }
   },
   "outputs": [
    {
     "name": "stdout",
     "output_type": "stream",
     "text": [
      "😁\n"
     ]
    },
    {
     "data": {
      "image/png": "[encoded data removed]",
      "text/plain": [
       "<Figure size 432x288 with 1 Axes>"
      ]
     },
     "metadata": {
      "needs_background": "light"
     },
     "output_type": "display_data"
    }
   ],
   "source": [
    "predict_validation(5)"
   ]
  },
  {
   "cell_type": "markdown",
   "metadata": {},
   "source": [
    "predicted emoji for test which is shocking face emoji"
   ]
  },
  {
   "cell_type": "code",
   "execution_count": 109,
   "metadata": {
    "execution": {
     "iopub.execute_input": "2021-07-09T10:45:29.972156Z",
     "iopub.status.busy": "2021-07-09T10:45:29.971804Z",
     "iopub.status.idle": "2021-07-09T10:45:30.083454Z",
     "shell.execute_reply": "2021-07-09T10:45:30.082421Z",
     "shell.execute_reply.started": "2021-07-09T10:45:29.972123Z"
    }
   },
   "outputs": [
    {
     "name": "stdout",
     "output_type": "stream",
     "text": [
      "😱\n"
     ]
    },
    {
     "data": {
      "image/png": "[encoded data removed]",
      "text/plain": [
       "<Figure size 432x288 with 1 Axes>"
      ]
     },
     "metadata": {
      "needs_background": "light"
     },
     "output_type": "display_data"
    }
   ],
   "source": [
    "predict_test(4)"
   ]
  },
  {
   "cell_type": "markdown",
   "metadata": {},
   "source": [
    "# Conclusion\n",
    "* In this project we have done Emoji detection using facial expression\n",
    "* We have made a block of CNN model which the input we have transpormed into 48 , 48 , 1 . where 48 is rows and columns and 1 is channel.\n",
    "* The result we get from this model is 71% training accuracy , 64% validation accuracy anf 63% testing accuracy\n",
    "* The hyper-parameter tuning we have used is model checkpoints for saving best model , eary stopping for automatically stopping the model if it is not improving and reduceLR for dynamically changing learning rate\n",
    "* The above shown graph we can see the gap between training and validation accuracy and training and validation loss is less so it is not overfitting\n",
    "* There are some images of training , validation and testing are shown above with their emojis by comparison we can see that we are getting promising result"
   ]
  }
 ],
 "metadata": {
  "kernelspec": {
   "display_name": "Python 3",
   "language": "python",
   "name": "python3"
  },
  "language_info": {
   "codemirror_mode": {
    "name": "ipython",
    "version": 3
   },
   "file_extension": ".py",
   "mimetype": "text/x-python",
   "name": "python",
   "nbconvert_exporter": "python",
   "pygments_lexer": "ipython3",
   "version": "3.8.8"
  }
 },
 "nbformat": 4,
 "nbformat_minor": 4
}
